{
  "nbformat": 4,
  "nbformat_minor": 0,
  "metadata": {
    "colab": {
      "name": "5: Gráficos estadísticos.ipynb",
      "version": "0.3.2",
      "provenance": [],
      "private_outputs": true,
      "collapsed_sections": [],
      "include_colab_link": true
    },
    "kernelspec": {
      "name": "python3",
      "display_name": "Python 3"
    }
  },
  "cells": [
    {
      "cell_type": "markdown",
      "metadata": {
        "id": "view-in-github",
        "colab_type": "text"
      },
      "source": [
        "[View in Colaboratory](https://colab.research.google.com/github/politicasydatos/curso_intensivo_estadistica/blob/master/5_Gr%C3%A1ficos_estad%C3%ADsticos.ipynb)"
      ]
    },
    {
      "metadata": {
        "id": "O36qxAq9czXD",
        "colab_type": "text"
      },
      "cell_type": "markdown",
      "source": [
        "![texto alternativo](https://3.bp.blogspot.com/-O3yeEI3wWN4/Wpbw8NnGFaI/AAAAAAAAABg/ZwFgqtmiwDczgu2BGJ9Qkr9mhkuCK_oogCK4BGAYYCw/s1600/Logo%2Bbanner%2B%25285%2529.png)\n",
        "\n",
        "# Curso intensivo de estadística en Python\n",
        "\n",
        "Con [Norman Simón Rodríguez, MSc](https://politicasydatos.blogspot.com/p/acerca-de-mi.html)."
      ]
    },
    {
      "metadata": {
        "id": "x3oP-JIYc2B7",
        "colab_type": "text"
      },
      "cell_type": "markdown",
      "source": [
        "## Lección 5: Gráficos estadísticos\n",
        "\n",
        "En este curso vamos a hacer nuestras gráficas estadísticas usando [Pandas](https://pandas.pydata.org/pandas-docs/stable/visualization.html).\n",
        "Pandas usa \"bajo cuerda\" la librería MatPlotLib, que es la librería básica de graficación estadística en Python."
      ]
    },
    {
      "metadata": {
        "id": "i8vzDbL-fcIY",
        "colab_type": "code",
        "colab": {}
      },
      "cell_type": "code",
      "source": [
        "import pandas as pd\n",
        "import matplotlib.pyplot as plt"
      ],
      "execution_count": 0,
      "outputs": []
    },
    {
      "metadata": {
        "id": "A7d7WypIElIt",
        "colab_type": "text"
      },
      "cell_type": "markdown",
      "source": [
        "Vamos a importar también la librería Seaborn (no es necesaria, pero ayuda a que los gráficos queden más bonitos). Con este comando de Seaborn establecemos una estética general para todos nuestros gráficos:"
      ]
    },
    {
      "metadata": {
        "id": "hgMyxhMZEkTW",
        "colab_type": "code",
        "colab": {}
      },
      "cell_type": "code",
      "source": [
        "import seaborn as sns\n",
        "sns.set(style=\"white\", font_scale=1.5)"
      ],
      "execution_count": 0,
      "outputs": []
    },
    {
      "metadata": {
        "id": "oIuQBT2-aHzg",
        "colab_type": "text"
      },
      "cell_type": "markdown",
      "source": [
        "### Gráfica de barras\n",
        "\n",
        "Vamos a usar datos de los resultados de las elecciones presidenciales 2018 de Colombia, tomados de la página de la [Registraduría Nacional](https://wsr.registraduria.gov.co/?page=Elecciones_2018) (preconteo) para ilustrar cómo se hacen los diagramas de barras en Python. Importamos los datos desde la URL de nuestro repositorio de GitHub:"
      ]
    },
    {
      "metadata": {
        "id": "kum4Y8DcS245",
        "colab_type": "code",
        "colab": {}
      },
      "cell_type": "code",
      "source": [
        "url_elecciones = 'https://raw.githubusercontent.com/politicasydatos/curso_intensivo_estadistica/master/datos/elecciones_presidenciales_2018.csv'\n",
        "elecciones = pd.read_csv(url_elecciones)\n",
        "elecciones = elecciones.set_index('candidato')\n",
        "elecciones.head()"
      ],
      "execution_count": 0,
      "outputs": []
    },
    {
      "metadata": {
        "id": "zuBIY8nMb55I",
        "colab_type": "text"
      },
      "cell_type": "markdown",
      "source": [
        "Y graficamos un diagrama de barras de la votación de *primera* vuelta con Pandas:"
      ]
    },
    {
      "metadata": {
        "id": "faj31Rwvb2Yy",
        "colab_type": "code",
        "colab": {}
      },
      "cell_type": "code",
      "source": [
        "primera_vuelta = elecciones[ elecciones['vuelta'] == 1 ]\n",
        "primera_vuelta_plot = primera_vuelta.plot.bar(y='votacion', legend=False)\n",
        "plt.suptitle(\"Elecciones presidenciales (1a vuelta)\")\n",
        "plt.title(\"Fuente: Registraduría Nacional\", fontsize=12)\n",
        "plt.xlabel(\"Candidato\")\n",
        "plt.ylabel(\"Votos\")\n",
        "plt.show()"
      ],
      "execution_count": 0,
      "outputs": []
    },
    {
      "metadata": {
        "id": "CN4PkFtIe6f6",
        "colab_type": "text"
      },
      "cell_type": "markdown",
      "source": [
        "Y ahora un diagrama de barras agrupadas con los votos de las dos vueltas. Primero creamos una tabla de pivote para dejar los resultados de cada vuelta en su propia columna:"
      ]
    },
    {
      "metadata": {
        "id": "_t5Z-vp2XeQa",
        "colab_type": "code",
        "colab": {}
      },
      "cell_type": "code",
      "source": [
        "elecciones_pivote = elecciones.pivot(columns='vuelta', values='votacion') # El índice es candidato (el índice del DataFrame)\n",
        "elecciones_pivote.head()"
      ],
      "execution_count": 0,
      "outputs": []
    },
    {
      "metadata": {
        "id": "tB9c-dLMXiMr",
        "colab_type": "text"
      },
      "cell_type": "markdown",
      "source": [
        "Y ahora usamos esta tabla de pivote para crear nuestro diagrama de barras agrupadas:"
      ]
    },
    {
      "metadata": {
        "id": "EZr38koxe53z",
        "colab_type": "code",
        "colab": {}
      },
      "cell_type": "code",
      "source": [
        "elecciones_plot = elecciones_pivote.plot.bar()\n",
        "plt.suptitle(\"Elecciones presidenciales\")\n",
        "plt.title(\"Fuente: Registraduría Nacional\", fontsize=12)\n",
        "plt.xlabel(\"Candidato\")\n",
        "plt.ylabel(\"Votos\")\n",
        "plt.ticklabel_format(style='plain', axis='y') # Para eliminar la notación científica (https://stackoverflow.com/a/46735874)\n",
        "plt.show()"
      ],
      "execution_count": 0,
      "outputs": []
    },
    {
      "metadata": {
        "id": "rGQItKJW6-2N",
        "colab_type": "text"
      },
      "cell_type": "markdown",
      "source": [
        "### Diagrama de líneas\n",
        "\n",
        "Vamos a importar nuestros datos (Fuente: [Banco de la República de Colombia, 2018](http://www.banrep.gov.co/es/-estadisticas))."
      ]
    },
    {
      "metadata": {
        "id": "Bo_obEfd7NK3",
        "colab_type": "code",
        "colab": {}
      },
      "cell_type": "code",
      "source": [
        "url_banrep = 'https://raw.githubusercontent.com/politicasydatos/curso_intensivo_estadistica/master/datos/salarios_ipc_banrep.csv'\n",
        "banrep = pd.read_csv(url_banrep)\n",
        "banrep = banrep.set_index('anio')\n",
        "banrep.head()"
      ],
      "execution_count": 0,
      "outputs": []
    },
    {
      "metadata": {
        "id": "mj1A_bwl7fCB",
        "colab_type": "text"
      },
      "cell_type": "markdown",
      "source": [
        "Procedamos a hacer un gráfico de líneas que muestre la evolución del Índice de Precios al Consumidor (IPC) a lo largo del tiempo."
      ]
    },
    {
      "metadata": {
        "id": "5G4NbDK77pux",
        "colab_type": "code",
        "colab": {}
      },
      "cell_type": "code",
      "source": [
        "ipc_plot = banrep.plot(y='ipc_dic_2008')\n",
        "plt.suptitle(\"Índice de Precios al Consumidor (diciembres)\")\n",
        "plt.title(\"Fuente: Banco de la República\", fontsize=12)\n",
        "plt.xlabel(\"Año\")\n",
        "plt.ticklabel_format(style='plain', useOffset=False, axis='x') # Para evitar el Offset (https://stackoverflow.com/a/28373421)\n",
        "plt.ylabel(\"IPC (base diciembre de 2008)\")\n",
        "plt.show()"
      ],
      "execution_count": 0,
      "outputs": []
    },
    {
      "metadata": {
        "id": "AVkm7Pq29kn3",
        "colab_type": "text"
      },
      "cell_type": "markdown",
      "source": [
        "Y añadamos una serie adicional para ver la evolución del salario mínimo legal mensual:"
      ]
    },
    {
      "metadata": {
        "id": "5Y26TKK69o51",
        "colab_type": "code",
        "colab": {}
      },
      "cell_type": "code",
      "source": [
        "ipc_plot = banrep.plot(y='ipc_dic_2008', marker='o', label=\"IPC\")\n",
        "salmin_plot = banrep.plot(y='salmin', secondary_y=True, ax=ipc_plot, marker='o', label=\"Salario mínimo\")\n",
        "ipc_plot.set_xlabel('Año')\n",
        "ipc_plot.set_ylabel('IPC (base diciembre de 2008)')\n",
        "salmin_plot.set_ylabel('Salario mínimo mensual (COP)')\n",
        "plt.suptitle(\"Índice de precios y salario mínimo\")\n",
        "plt.title(\"Fuente: Banco de la República\", fontsize=12)\n",
        "plt.ticklabel_format(style='plain', useOffset=False, axis='x')\n",
        "plt.show()"
      ],
      "execution_count": 0,
      "outputs": []
    },
    {
      "metadata": {
        "id": "-P0CW8gIHAu_",
        "colab_type": "text"
      },
      "cell_type": "markdown",
      "source": [
        "# Gráficas circulares\n",
        "\n",
        "Usaremos los datos publicados por [El Espectador](https://www.elespectador.com/elecciones-2018/noticias/politica/asi-quedo-conformado-el-congreso-2018-2022-articulo-743849) de la conformación de las bancadas en el Senado (2018-2022) para hacer un diagrama circular o de \"torta\"."
      ]
    },
    {
      "metadata": {
        "id": "Hqz6C-C1hZ2y",
        "colab_type": "code",
        "colab": {}
      },
      "cell_type": "code",
      "source": [
        "url_bancadas = 'https://raw.githubusercontent.com/politicasydatos/curso_intensivo_estadistica/master/datos/bancadas_senado_2018.csv'\n",
        "bancadas = pd.read_csv(url_bancadas)\n",
        "bancadas = bancadas.set_index('partido')\n",
        "bancadas"
      ],
      "execution_count": 0,
      "outputs": []
    },
    {
      "metadata": {
        "id": "9-8J_lVcio11",
        "colab_type": "text"
      },
      "cell_type": "markdown",
      "source": [
        "Creando el diagrama circular:"
      ]
    },
    {
      "metadata": {
        "id": "O8UfAC6AiqtF",
        "colab_type": "code",
        "colab": {}
      },
      "cell_type": "code",
      "source": [
        "bancadas_plot = bancadas.plot.pie(y='senadores', legend=False)\n",
        "plt.axis('equal') # Para que quede \"bien\" circular\n",
        "plt.ylabel(\"\")\n",
        "plt.show()"
      ],
      "execution_count": 0,
      "outputs": []
    },
    {
      "metadata": {
        "id": "_LQpN3NbmspR",
        "colab_type": "text"
      },
      "cell_type": "markdown",
      "source": [
        "Podemos usar una opción llamada `explode` para trtar de darle al gráfico una apariencia más llamativa:"
      ]
    },
    {
      "metadata": {
        "id": "a0VwIt_NjzFe",
        "colab_type": "code",
        "colab": {}
      },
      "cell_type": "code",
      "source": [
        "import numpy as np\n",
        "magnitudes = np.linspace(0,0.3,len(bancadas),endpoint=False)\n",
        "\n",
        "bancadas_plot = bancadas.plot.pie(y='senadores', legend=False, explode=magnitudes)\n",
        "plt.axis('equal')\n",
        "plt.ylabel(\"\")\n",
        "plt.show()"
      ],
      "execution_count": 0,
      "outputs": []
    },
    {
      "metadata": {
        "id": "e9E3DuNZHC_Y",
        "colab_type": "text"
      },
      "cell_type": "markdown",
      "source": [
        "# Diagramas de dispersión\n",
        "\n",
        "asdasda"
      ]
    },
    {
      "metadata": {
        "id": "9XmGR8pgHF3u",
        "colab_type": "text"
      },
      "cell_type": "markdown",
      "source": [
        "# Histogramas\n",
        "\n",
        "Los histogramas son fundamentales para "
      ]
    },
    {
      "metadata": {
        "id": "K9aQc3mkqEKA",
        "colab_type": "code",
        "colab": {}
      },
      "cell_type": "code",
      "source": [
        ""
      ],
      "execution_count": 0,
      "outputs": []
    }
  ]
}