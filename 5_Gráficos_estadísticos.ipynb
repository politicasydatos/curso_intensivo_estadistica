{
  "nbformat": 4,
  "nbformat_minor": 0,
  "metadata": {
    "colab": {
      "name": "5: Gráficos estadísticos.ipynb",
      "version": "0.3.2",
      "provenance": [],
      "private_outputs": true,
      "collapsed_sections": [],
      "include_colab_link": true
    },
    "kernelspec": {
      "name": "python3",
      "display_name": "Python 3"
    }
  },
  "cells": [
    {
      "cell_type": "markdown",
      "metadata": {
        "id": "view-in-github",
        "colab_type": "text"
      },
      "source": [
        "[View in Colaboratory](https://colab.research.google.com/github/politicasydatos/curso_intensivo_estadistica/blob/master/5_Gr%C3%A1ficos_estad%C3%ADsticos.ipynb)"
      ]
    },
    {
      "metadata": {
        "id": "O36qxAq9czXD",
        "colab_type": "text"
      },
      "cell_type": "markdown",
      "source": [
        "![texto alternativo](https://3.bp.blogspot.com/-O3yeEI3wWN4/Wpbw8NnGFaI/AAAAAAAAABg/ZwFgqtmiwDczgu2BGJ9Qkr9mhkuCK_oogCK4BGAYYCw/s1600/Logo%2Bbanner%2B%25285%2529.png)\n",
        "\n",
        "# Curso intensivo de estadística en Python\n",
        "\n",
        "Con [Norman Simón Rodríguez, MSc](https://politicasydatos.blogspot.com/p/acerca-de-mi.html)."
      ]
    },
    {
      "metadata": {
        "id": "x3oP-JIYc2B7",
        "colab_type": "text"
      },
      "cell_type": "markdown",
      "source": [
        "## Lección 5: Gráficos estadísticos\n",
        "\n",
        "En este curso vamos a hacer nuestras gráficas estadísticas usando [Pandas](https://pandas.pydata.org/pandas-docs/stable/visualization.html). Si queremos hacer gráficas más avanzadas (pero un poco más difíciles de programar) tenemos librerías como Seaborn, Bokeh y Plotly, entre otras.\n",
        "\n",
        "Pandas usa \"bajo cuerda\" la librería MatPlotLib, que es la librería básica de graficación estadística en Python. Vamos a importar también la librería Seaborn (no es necesaria, pero ayuda a que los gráficos queden más bonitos)."
      ]
    },
    {
      "metadata": {
        "id": "i8vzDbL-fcIY",
        "colab_type": "code",
        "colab": {}
      },
      "cell_type": "code",
      "source": [
        "import pandas as pd\n",
        "import numpy as np\n",
        "import matplotlib.pyplot as plt\n",
        "import seaborn as sns\n",
        "sns.set(style=\"white\", font_scale=1.5)"
      ],
      "execution_count": 0,
      "outputs": []
    },
    {
      "metadata": {
        "id": "73Kq_RD6VEMH",
        "colab_type": "text"
      },
      "cell_type": "markdown",
      "source": [
        "Y vamos a importar algunos datos de una hoja de cálculo de Google Spreadsheets:\n",
        "\n",
        "**IMPORTAR DESDE URL!!!!!**"
      ]
    },
    {
      "metadata": {
        "id": "hkbSftZNVSnc",
        "colab_type": "code",
        "colab": {},
        "cellView": "form"
      },
      "cell_type": "code",
      "source": [
        "#@title\n",
        "!pip install --upgrade -q gspread\n",
        "\n",
        "from google.colab import auth\n",
        "auth.authenticate_user()\n",
        "\n",
        "import gspread\n",
        "from oauth2client.client import GoogleCredentials\n",
        "\n",
        "gc = gspread.authorize(GoogleCredentials.get_application_default())\n",
        "\n",
        "# Datos de personas\n",
        "personas = gc.open('datos_seaborn').sheet1\n",
        "personas = personas.get_all_values() # get_all_values genera una lista de filas.\n",
        "personas = pd.DataFrame.from_records(personas)\n",
        "personas.columns = ['nombre', 'mes', 'turnos']\n",
        "personas['turnos'] = personas['turnos'].astype(int)\n",
        "\n",
        "# Datos de tasas de cambio\n",
        "#monedas = gc.open('datos_seaborn').sheet2\n",
        "#monedas = monedas.get_all_values() # get_all_values genera una lista de filas.\n",
        "#monedas = pd.DataFrame.from_records(monedas)\n",
        "\n",
        "personas\n",
        "#monedas"
      ],
      "execution_count": 0,
      "outputs": []
    },
    {
      "metadata": {
        "id": "oIuQBT2-aHzg",
        "colab_type": "text"
      },
      "cell_type": "markdown",
      "source": [
        "# Gráfica de barras\n",
        "\n",
        "Vamos a crear un gráfico de barras sencillo que nos mostrará cuántos turnos tiene cada persona sólo en el mes de **enero**. Para lograrlo, primero filtramos la tabla para tener únicamente los turnos de dicho mes."
      ]
    },
    {
      "metadata": {
        "id": "ekXJVXjobak3",
        "colab_type": "code",
        "colab": {}
      },
      "cell_type": "code",
      "source": [
        "enero = personas[personas['mes'] == 'enero']\n",
        "enero"
      ],
      "execution_count": 0,
      "outputs": []
    },
    {
      "metadata": {
        "id": "zuBIY8nMb55I",
        "colab_type": "text"
      },
      "cell_type": "markdown",
      "source": [
        "Y graficamos el diagrama de barras con Pandas:"
      ]
    },
    {
      "metadata": {
        "id": "faj31Rwvb2Yy",
        "colab_type": "code",
        "colab": {}
      },
      "cell_type": "code",
      "source": [
        "grafico_barras = enero.plot(x='nombre', y='turnos', kind='bar', legend=False)\n",
        "plt.title(\"Turnos de enero\")\n",
        "plt.xlabel(\"Nombres\")\n",
        "plt.xticks(rotation=0)\n",
        "plt.ylabel(\"Turnos\")\n",
        "plt.show(grafico_barras)"
      ],
      "execution_count": 0,
      "outputs": []
    },
    {
      "metadata": {
        "id": "CN4PkFtIe6f6",
        "colab_type": "text"
      },
      "cell_type": "markdown",
      "source": [
        "Y ahora un diagrama de barras agrupadas con los turnos de todos los meses"
      ]
    },
    {
      "metadata": {
        "id": "EZr38koxe53z",
        "colab_type": "code",
        "colab": {}
      },
      "cell_type": "code",
      "source": [
        "grafico_barras_agrupadas = personas.plot(x='nombre', y='turnos', hue='mes')\n",
        "plt.xlabel(\"Nombres\")\n",
        "plt.ylabel(\"Turnos\")\n",
        "plt.title(\"Turnos\")\n",
        "#plt.legend(loc='upper right')\n",
        "plt.show(grafico_barras_agrupadas)"
      ],
      "execution_count": 0,
      "outputs": []
    },
    {
      "metadata": {
        "id": "rGQItKJW6-2N",
        "colab_type": "text"
      },
      "cell_type": "markdown",
      "source": [
        "# Diagrama de líneas\n",
        "\n",
        "Vamos a importar nuestros datos (Fuente: [Banco de la República de Colombia, 2018](http://www.banrep.gov.co/es/-estadisticas))."
      ]
    },
    {
      "metadata": {
        "id": "Bo_obEfd7NK3",
        "colab_type": "code",
        "colab": {}
      },
      "cell_type": "code",
      "source": [
        "url = 'https://raw.githubusercontent.com/politicasydatos/curso_intensivo_estadistica/master/datos/salarios_ipc_banrep.csv'\n",
        "banrep = pd.read_csv(url)\n",
        "banrep.dtypes"
      ],
      "execution_count": 0,
      "outputs": []
    },
    {
      "metadata": {
        "id": "mj1A_bwl7fCB",
        "colab_type": "text"
      },
      "cell_type": "markdown",
      "source": [
        "Procedamos a hacer un gráfico de líneas que muestre la evolución del Índice de Precios al Consumidor (IPC) a lo largo del tiempo."
      ]
    },
    {
      "metadata": {
        "id": "5G4NbDK77pux",
        "colab_type": "code",
        "colab": {}
      },
      "cell_type": "code",
      "source": [
        "ipc_plot = banrep.plot(x='anio', y='ipc_dic_2008')\n",
        "plt.suptitle(\"Índice de Precios al Consumidor (diciembres)\")\n",
        "plt.title(\"Fuente: Banco de la República\", fontsize=14)\n",
        "plt.xlabel(\"Año\")\n",
        "plt.ylabel(\"IPC (base diciembre de 2008)\")\n",
        "plt.show()"
      ],
      "execution_count": 0,
      "outputs": []
    },
    {
      "metadata": {
        "id": "AVkm7Pq29kn3",
        "colab_type": "text"
      },
      "cell_type": "markdown",
      "source": [
        "Y añadamos una serie adicional para ver la evolución del salario mínimo legal mensual:"
      ]
    },
    {
      "metadata": {
        "id": "5Y26TKK69o51",
        "colab_type": "code",
        "colab": {}
      },
      "cell_type": "code",
      "source": [
        "ipc_plot = banrep.plot(kind='line', x='anio', y='ipc_dic_2008', label=\"IPC\")\n",
        "salmin_plot = banrep.plot(x='anio', y='salmin', secondary_y=True, ax=ipc_plot, label=\"Salario mínimo\")\n",
        "ipc_plot.set_xlabel('Año')\n",
        "ipc_plot.set_ylabel('IPC')\n",
        "salmin_plot.set_ylabel('Salario mínimo')\n",
        "plt.suptitle(\"Índice de precios y salario mínimo\")\n",
        "plt.title(\"Fuente: Banco de la República\", fontsize=14)\n",
        "#plt.ylabel(\"IPC (base diciembre de 2008)\")\n",
        "plt.show()"
      ],
      "execution_count": 0,
      "outputs": []
    }
  ]
}