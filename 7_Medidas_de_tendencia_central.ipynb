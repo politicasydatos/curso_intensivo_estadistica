{
  "nbformat": 4,
  "nbformat_minor": 0,
  "metadata": {
    "colab": {
      "name": "7: Medidas de tendencia central.ipynb",
      "version": "0.3.2",
      "provenance": [],
      "private_outputs": true,
      "collapsed_sections": [],
      "include_colab_link": true
    }
  },
  "cells": [
    {
      "cell_type": "markdown",
      "metadata": {
        "id": "view-in-github",
        "colab_type": "text"
      },
      "source": [
        "[View in Colaboratory](https://colab.research.google.com/github/politicasydatos/curso_intensivo_estadistica/blob/master/7_Medidas_de_tendencia_central.ipynb)"
      ]
    },
    {
      "metadata": {
        "id": "bd76eA_Wr8dn",
        "colab_type": "text"
      },
      "cell_type": "markdown",
      "source": [
        "![texto alternativo](https://3.bp.blogspot.com/-O3yeEI3wWN4/Wpbw8NnGFaI/AAAAAAAAABg/ZwFgqtmiwDczgu2BGJ9Qkr9mhkuCK_oogCK4BGAYYCw/s1600/Logo%2Bbanner%2B%25285%2529.png)\n",
        "\n",
        "# Curso intensivo de estadística en Python\n",
        "\n",
        "Con [Norman Simón Rodríguez, MSc](https://politicasydatos.blogspot.com/p/acerca-de-mi.html)."
      ]
    },
    {
      "metadata": {
        "id": "mlbHI4x9sBKq",
        "colab_type": "text"
      },
      "cell_type": "markdown",
      "source": [
        "## Lección 7: Medidas de tendencia central\n",
        "\n",
        "Las medidas de tendencia central, también llamadas en general *promedios* son números que nos permiten resumir distribuciones, y buscan darnos un valor que representa a la mayoría de los datos.\n",
        "\n",
        "Por ejemplo, cuando se dice que en un país el número promedio de hijos por familia es 2.5 lo que se quiere decir es que *la mayoría* de las familias de ese país tiene alrededor de 2.5 hijos. En otras palabras, los promedios nos indican un valor alrededor del cual se encuentran *concentrados* los demás datos.\n",
        "\n",
        "Muchas veces, sin embargo, los promedios no representan a la mayoría de la población. Es por esto que se complementan con las medidas de dispersión, que veremos en el próximo cuaderno.\n",
        "\n",
        "Las tres medidas de tendencia central más usadas son la media (aritmética), la mediana y la moda.\n",
        "\n",
        "### La mediana\n",
        "\n",
        "Si partimos un diagrama de densidad por su mediana, queda exactamente partido a la mitad.\n",
        "\n",
        "Primero importemos las librerías requeridas:"
      ]
    },
    {
      "metadata": {
        "id": "4xoZKSJNv3_6",
        "colab_type": "code",
        "colab": {}
      },
      "cell_type": "code",
      "source": [
        "import pandas as pd\n",
        "import matplotlib.pyplot as plt\n",
        "import seaborn as sns\n",
        "sns.set(style=\"white\", font_scale=1.5)"
      ],
      "execution_count": 0,
      "outputs": []
    },
    {
      "metadata": {
        "id": "SOCp4ddE-eXJ",
        "colab_type": "text"
      },
      "cell_type": "markdown",
      "source": [
        "Recordemos nuestros datos de alturas:"
      ]
    },
    {
      "metadata": {
        "id": "O90xpAc-vy_f",
        "colab_type": "code",
        "colab": {}
      },
      "cell_type": "code",
      "source": [
        "url_alturas = 'https://raw.githubusercontent.com/politicasydatos/curso_intensivo_estadistica/master/datos/altura.csv'\n",
        "alturas = pd.read_csv(url_alturas)*2.54 # Se multiplica por 2.54 para convertir de pulgadas a centímetros\n",
        "alturas = alturas['Father']\n",
        "alturas.head()"
      ],
      "execution_count": 0,
      "outputs": []
    },
    {
      "metadata": {
        "id": "bCb6wU_hwBUj",
        "colab_type": "text"
      },
      "cell_type": "markdown",
      "source": [
        "Calculemos la mediana:"
      ]
    },
    {
      "metadata": {
        "id": "mOioK0ipwEu-",
        "colab_type": "code",
        "colab": {}
      },
      "cell_type": "code",
      "source": [
        "mediana = alturas.median()\n",
        "mediana = round(mediana, 2)\n",
        "mediana"
      ],
      "execution_count": 0,
      "outputs": []
    },
    {
      "metadata": {
        "id": "lrCGSanqwKMy",
        "colab_type": "text"
      },
      "cell_type": "markdown",
      "source": [
        "Y dibujémosla (color amarillo) sobre nuestro diagrama de densdidad:"
      ]
    },
    {
      "metadata": {
        "id": "fdVylqZOvqeW",
        "colab_type": "code",
        "colab": {}
      },
      "cell_type": "code",
      "source": [
        "ax = alturas.plot.hist(bins=20, normed=True)\n",
        "alturas.plot.density(ax=ax, color='red')\n",
        "plt.axvline(x=mediana, color='yellow', linewidth=4)\n",
        "plt.show()"
      ],
      "execution_count": 0,
      "outputs": []
    },
    {
      "metadata": {
        "id": "7V_YF1B7w3VP",
        "colab_type": "text"
      },
      "cell_type": "markdown",
      "source": [
        "Comprobemos que el número de observaciones que miden más que la mediana es aproximadamente igual al número de observaciones que miden menos que la mediana:"
      ]
    },
    {
      "metadata": {
        "id": "tOyUaxkZrc5C",
        "colab_type": "code",
        "colab": {}
      },
      "cell_type": "code",
      "source": [
        "print(\"Cantidad de hombres que miden más o igual que la mediana:\")\n",
        "print(alturas[ alturas >= mediana ].count())\n",
        "\n",
        "print(\"\\nCantidad de hombres que miden menos o igual que la mediana:\")\n",
        "print(alturas[ alturas <= mediana ].count())"
      ],
      "execution_count": 0,
      "outputs": []
    },
    {
      "metadata": {
        "id": "SiKQRSTVymHx",
        "colab_type": "text"
      },
      "cell_type": "markdown",
      "source": [
        "### La moda\n",
        "\n",
        "La moda es el valor que más se repite en la distribución, y corresponde al \"pico\" del diagrama de densidad. El supuesto fundamental que se tiene cuando se usa la moda es que al ser el valor más popular, seguramente a su alrededor estarán todos los demás valores. Esto a veces es cierto, a veces no.\n",
        "\n",
        "Calculemos la moda:"
      ]
    },
    {
      "metadata": {
        "id": "B_CegxA103a-",
        "colab_type": "code",
        "colab": {}
      },
      "cell_type": "code",
      "source": [
        "moda = alturas.mode()\n",
        "moda"
      ],
      "execution_count": 0,
      "outputs": []
    },
    {
      "metadata": {
        "id": "AsEkGCK91NJu",
        "colab_type": "text"
      },
      "cell_type": "markdown",
      "source": [
        "En este caso hay un empate entre tres estaturas. Vemos, sin embargo, que todas tres están muy cerca, de manera que podemos tomar la de la mitad como la más \"central\". Además, esta segunda moda es la misma mediana."
      ]
    },
    {
      "metadata": {
        "id": "M42mkRPo8E_e",
        "colab_type": "code",
        "colab": {}
      },
      "cell_type": "code",
      "source": [
        "moda = moda[1]\n",
        "moda = round(moda, 2)\n",
        "moda"
      ],
      "execution_count": 0,
      "outputs": []
    },
    {
      "metadata": {
        "id": "eHco3ZZo8Lye",
        "colab_type": "text"
      },
      "cell_type": "markdown",
      "source": [
        "Dibujando:"
      ]
    },
    {
      "metadata": {
        "id": "OzX2yZ-S1f_U",
        "colab_type": "code",
        "colab": {}
      },
      "cell_type": "code",
      "source": [
        "ax = alturas.plot.hist(bins=20, normed=True)\n",
        "alturas.plot.density(ax=ax, color='red')\n",
        "plt.axvline(x=moda[1], color='Lime', linewidth=4)\n",
        "plt.show()"
      ],
      "execution_count": 0,
      "outputs": []
    },
    {
      "metadata": {
        "id": "mvnaSlzh13sj",
        "colab_type": "text"
      },
      "cell_type": "markdown",
      "source": [
        "Por supuesto, al tener esta moda el mismo valor de la mediana, la cantidades de observaciones a la derecha y a la izquierda serán iguales a las del ejercicio anterior."
      ]
    },
    {
      "metadata": {
        "id": "2gucIZM62CiE",
        "colab_type": "text"
      },
      "cell_type": "markdown",
      "source": [
        "### La media\n",
        "\n",
        "La media es la medida de tendencia central más común. A diferencia de la moda (que nos dice el valor más popular) y de la mediana (que busca partir los datos por la mitad exacta en dos grupos del mismo tamaño), la media se preocupa por partir la distribución de manera que los valores que están más lejos de la mitad tengan un poco más de importancia.\n",
        "\n",
        "La mediana no tiene en cuenta si la persona más alta mide 190 centímetros, o 25 metros, ya que el valor de las observaciones extremas no cuenta para el cálculo de la mitad de la distribución.\n",
        "\n",
        "La media, en contraste,  sí les da importancia a los valores extremos, y tiende a dejarse llevar por estos. Una sola persona que mida 3 metros o una sola persona que mida 15 centímetros pueden afectar la media en gran manera. En particular, si alguien mide 3 metros, la media tenderá a ser alta, y si alguien mide apenas 15 centímetros, la media tiende a ser baja, como si los valores extremos fueran \"imanes\" que la atraen.\n",
        "\n",
        "Calculemos la media:"
      ]
    },
    {
      "metadata": {
        "id": "lxmWqf3b7X2g",
        "colab_type": "code",
        "colab": {}
      },
      "cell_type": "code",
      "source": [
        "media = alturas.mean()\n",
        "media = round(media, 2)\n",
        "media"
      ],
      "execution_count": 0,
      "outputs": []
    },
    {
      "metadata": {
        "id": "wDA6Yps47eie",
        "colab_type": "text"
      },
      "cell_type": "markdown",
      "source": [
        "Y dibujémosla:"
      ]
    },
    {
      "metadata": {
        "id": "sT9mgjiS7fzb",
        "colab_type": "code",
        "colab": {}
      },
      "cell_type": "code",
      "source": [
        "ax = alturas.plot.hist(bins=20, normed=True)\n",
        "alturas.plot.density(ax=ax, color='red')\n",
        "plt.axvline(x=media, color='Magenta', linewidth=4)\n",
        "plt.show()"
      ],
      "execution_count": 0,
      "outputs": []
    },
    {
      "metadata": {
        "id": "r8eOpemT7vWx",
        "colab_type": "text"
      },
      "cell_type": "markdown",
      "source": [
        "Si comparamos las tres medidas de tendencia central que hemos calculado, veremos que todas son muy similares. Esto se debe a que la distribución es *simétrica*, y cuando una distribución es simétrica, sus tres promedios suelen coincidir."
      ]
    },
    {
      "metadata": {
        "id": "6K6-zGvW7zOB",
        "colab_type": "code",
        "colab": {}
      },
      "cell_type": "code",
      "source": [
        "print(\"La mediana es {}, la moda es {} y la media es {}.\".format( mediana, moda, media ))"
      ],
      "execution_count": 0,
      "outputs": []
    },
    {
      "metadata": {
        "id": "9WC8T5uh8pk_",
        "colab_type": "text"
      },
      "cell_type": "markdown",
      "source": [
        "### Distribuciones asimétricas\n",
        "\n",
        "Cuando una distribución es asimétrica, sus promedios no necesariamente coinciden. Retomemos los datos de PIB per cápita del Banco Mundial."
      ]
    },
    {
      "metadata": {
        "id": "lDbU0d7D8-F0",
        "colab_type": "code",
        "colab": {}
      },
      "cell_type": "code",
      "source": [
        "url_co2 = 'https://raw.githubusercontent.com/politicasydatos/curso_intensivo_estadistica/master/datos/co2_y_pib.csv'\n",
        "co2 = pd.read_csv(url_co2)\n",
        "co2.head()"
      ],
      "execution_count": 0,
      "outputs": []
    },
    {
      "metadata": {
        "id": "wh7b3_K69AYD",
        "colab_type": "text"
      },
      "cell_type": "markdown",
      "source": [
        "Sólo nos interesan los datos de PIB per cápita, y les vamos a hallar los promedios:"
      ]
    },
    {
      "metadata": {
        "id": "fw6haU109FQD",
        "colab_type": "code",
        "colab": {}
      },
      "cell_type": "code",
      "source": [
        "pib_pc = co2[ co2['series'] == 'GDP per capita, PPP (current international $)' ]\n",
        "pib_pc = pib_pc['2012'].dropna()\n",
        "ax = pib_pc.plot.hist(bins=20, normed=True)\n",
        "pib_pc.plot.density(ax=ax, color='red')\n",
        "plt.show()"
      ],
      "execution_count": 0,
      "outputs": []
    },
    {
      "metadata": {
        "id": "UCMMA0TR9KWy",
        "colab_type": "code",
        "colab": {}
      },
      "cell_type": "code",
      "source": [
        "mediana = round( pib_pc.median(), 2 )\n",
        "media = round( pib_pc.mean(), 2 )"
      ],
      "execution_count": 0,
      "outputs": []
    },
    {
      "metadata": {
        "id": "JihPZbhgAmkR",
        "colab_type": "text"
      },
      "cell_type": "markdown",
      "source": [
        "Al calcular la moda vemos que hay en realidad muchas modas:"
      ]
    },
    {
      "metadata": {
        "id": "ZUKcqBOfApNW",
        "colab_type": "code",
        "colab": {}
      },
      "cell_type": "code",
      "source": [
        "print(pib_pc.mode())"
      ],
      "execution_count": 0,
      "outputs": []
    },
    {
      "metadata": {
        "id": "2726cLebBpX3",
        "colab_type": "text"
      },
      "cell_type": "markdown",
      "source": [
        "De hecho, hay tantas modas como datos. La moda sólo es fácil de calcular cuando estamos trabajando con datos discretos. Cuando usamos datos continuos como éstos, a veces simplemente nos abstenemos de calcular la moda porque no sirve."
      ]
    },
    {
      "metadata": {
        "id": "guvh3nfU_mDp",
        "colab_type": "text"
      },
      "cell_type": "markdown",
      "source": [
        "Ahora dibujémoslas superpuestas en el diagrama (la mediana es la amarilla y la media es la fucsia):"
      ]
    },
    {
      "metadata": {
        "id": "NMfdlpzR_o_g",
        "colab_type": "code",
        "colab": {}
      },
      "cell_type": "code",
      "source": [
        "ax = pib_pc.plot.hist(bins=20, normed=True)\n",
        "pib_pc.plot.density(ax=ax, color='black')\n",
        "plt.axvline(x=mediana, color='Yellow', linewidth=4)\n",
        "plt.axvline(x=media, color='Magenta', linewidth=4)\n",
        "plt.show()"
      ],
      "execution_count": 0,
      "outputs": []
    },
    {
      "metadata": {
        "id": "SkCNnhbFCh7l",
        "colab_type": "text"
      },
      "cell_type": "markdown",
      "source": [
        "La \"punta\" del diagrama de densidad puede ser engañosa, pues aparentemente nos muestra que hay efectivamente una moda. Podemos chequear que no es así incrementando la precisión del diagrama de densidad:"
      ]
    },
    {
      "metadata": {
        "id": "biDeK7b5CsRc",
        "colab_type": "code",
        "colab": {}
      },
      "cell_type": "code",
      "source": [
        "fig, axes = plt.subplots(1, 2)\n",
        "A = pib_pc.plot.density(color='black', bw_method=0.1, ax=axes[0])\n",
        "B = pib_pc.plot.density(color='black', bw_method=0.02, ax=axes[1])\n",
        "\n",
        "# Escondiendo el eje vertical\n",
        "A.axes.get_yaxis().set_visible(False)\n",
        "B.axes.get_yaxis().set_visible(False)\n",
        "plt.show()"
      ],
      "execution_count": 0,
      "outputs": []
    },
    {
      "metadata": {
        "id": "lFG51XMdEj5F",
        "colab_type": "text"
      },
      "cell_type": "markdown",
      "source": [
        "Cuando se tienen distribuciones asimétricas, lo que se recomienda generalmente es usar la **mediana** en vez de la media. Esto porque la media se deja llevar mucho por los valores extremos, mientras que la mediana no, razón por la cual también se dice que la mediana es una medida \"robusta\"."
      ]
    },
    {
      "metadata": {
        "id": "soXV8ws5EyMH",
        "colab_type": "text"
      },
      "cell_type": "markdown",
      "source": [
        "### Qué aprendimos\n",
        "\n",
        "Aprendimos:\n",
        "\n",
        "* Que los promedios buscan darnos un valor alrededor del cual se concentra la mayoría de los valores de un vector de datos.\n",
        "* A calcular la moda, la media y la mediana con Pandas.\n",
        "* Que la media, la moda y la mediana suelen coincidir en las distribuciones simétricas.\n",
        "* Que la moda es más útil cuando tenemos datos discretos; con los datos continuos puede ser una medida engañosa, especialmente cuando hay varias modas.\n",
        "* Que cuando tenemos distribuciones asimétricas lo recomendado es usar la mediana, que es un promedio robusto.\n",
        "\n",
        "Visita [https://politicasydatos.blogspot.com/](https://politicasydatos.blogspot.com/) para más material.\n",
        "\n",
        "¡Nos vemos en el próximo tutorial!"
      ]
    }
  ]
}