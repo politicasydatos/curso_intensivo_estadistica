{
  "nbformat": 4,
  "nbformat_minor": 0,
  "metadata": {
    "colab": {
      "name": "7: Medidas de tendencia central.ipynb",
      "version": "0.3.2",
      "provenance": [],
      "private_outputs": true,
      "collapsed_sections": [],
      "include_colab_link": true
    }
  },
  "cells": [
    {
      "cell_type": "markdown",
      "metadata": {
        "id": "view-in-github",
        "colab_type": "text"
      },
      "source": [
        "[View in Colaboratory](https://colab.research.google.com/github/politicasydatos/curso_intensivo_estadistica/blob/master/7_Medidas_de_tendencia_central.ipynb)"
      ]
    },
    {
      "metadata": {
        "id": "bd76eA_Wr8dn",
        "colab_type": "text"
      },
      "cell_type": "markdown",
      "source": [
        "![texto alternativo](https://3.bp.blogspot.com/-O3yeEI3wWN4/Wpbw8NnGFaI/AAAAAAAAABg/ZwFgqtmiwDczgu2BGJ9Qkr9mhkuCK_oogCK4BGAYYCw/s1600/Logo%2Bbanner%2B%25285%2529.png)\n",
        "\n",
        "# Curso intensivo de estadística en Python\n",
        "\n",
        "Con [Norman Simón Rodríguez, MSc](https://politicasydatos.blogspot.com/p/acerca-de-mi.html)."
      ]
    },
    {
      "metadata": {
        "id": "mlbHI4x9sBKq",
        "colab_type": "text"
      },
      "cell_type": "markdown",
      "source": [
        "## Lección 7: Medidas de tendencia central\n",
        "\n",
        "Las medidas de tendencia central, también llamadas en general *promedios* son números que nos permiten resumir distribuciones, y buscan darnos un valor que representa a la mayoría de los datos.\n",
        "\n",
        "Por ejemplo, cuando se dice que en un país el número promedio de hijos por familia es 2.5 lo que se quiere decir es que *la mayoría* de las familias de ese país tiene alrededor de 2.5 hijos. En otras palabras, los promedios nos indican un valor alrededor del cual se encuentran *concentrados* los demás datos.\n",
        "\n",
        "Muchas veces, sin embargo, los promedios no representan a la mayoría de la población. Es por esto que se complementan con las medidas de dispersión, que veremos en el próximo cuaderno.\n",
        "\n",
        "Las tres medidas de tendencia central más usadas son la media (aritmética), la mediana y la moda.\n",
        "\n",
        "### La mediana\n",
        "\n",
        "Si partimos un diagrama de densidad por su mediana, queda exactamente partido a la mitad. Recordemos nuestros datos de alturas:"
      ]
    },
    {
      "metadata": {
        "id": "4xoZKSJNv3_6",
        "colab_type": "code",
        "colab": {}
      },
      "cell_type": "code",
      "source": [
        "import pandas as pd\n",
        "import matplotlib.pyplot as plt\n",
        "import seaborn as sns\n",
        "sns.set(style=\"white\", font_scale=1.5)"
      ],
      "execution_count": 0,
      "outputs": []
    },
    {
      "metadata": {
        "id": "O90xpAc-vy_f",
        "colab_type": "code",
        "colab": {}
      },
      "cell_type": "code",
      "source": [
        "url_alturas = 'https://raw.githubusercontent.com/politicasydatos/curso_intensivo_estadistica/master/datos/altura.csv'\n",
        "alturas = pd.read_csv(url_alturas)*2.54 # Se multiplica por 2.54 para convertir de pulgadas a centímetros\n",
        "alturas = alturas['Father']\n",
        "alturas.head()"
      ],
      "execution_count": 0,
      "outputs": []
    },
    {
      "metadata": {
        "id": "bCb6wU_hwBUj",
        "colab_type": "text"
      },
      "cell_type": "markdown",
      "source": [
        "Calculemos la mediana:"
      ]
    },
    {
      "metadata": {
        "id": "mOioK0ipwEu-",
        "colab_type": "code",
        "colab": {}
      },
      "cell_type": "code",
      "source": [
        "mediana = alturas.median()\n",
        "mediana"
      ],
      "execution_count": 0,
      "outputs": []
    },
    {
      "metadata": {
        "id": "lrCGSanqwKMy",
        "colab_type": "text"
      },
      "cell_type": "markdown",
      "source": [
        "Y dibujémosla (color amarillo) sobre nuestro diagrama de densdidad:"
      ]
    },
    {
      "metadata": {
        "id": "fdVylqZOvqeW",
        "colab_type": "code",
        "colab": {}
      },
      "cell_type": "code",
      "source": [
        "ax = alturas.plot.hist(bins=20, normed=True)\n",
        "alturas.plot.density(ax=ax, color='red')\n",
        "plt.axvline(x=mediana, color='yellow', linewidth=4)\n",
        "plt.show()"
      ],
      "execution_count": 0,
      "outputs": []
    },
    {
      "metadata": {
        "id": "7V_YF1B7w3VP",
        "colab_type": "text"
      },
      "cell_type": "markdown",
      "source": [
        "Comprobemos que el número de observaciones que miden más que la mediana es aproximadamente igual al número de observaciones que miden menos que la mediana:"
      ]
    },
    {
      "metadata": {
        "id": "tOyUaxkZrc5C",
        "colab_type": "code",
        "colab": {}
      },
      "cell_type": "code",
      "source": [
        "print(\"Cantidad de hombres que miden más o igual que la mediana:\")\n",
        "print(alturas[ alturas >= mediana ].count())\n",
        "\n",
        "print(\"\\nCantidad de hombres que miden menos o igual que la mediana:\")\n",
        "print(alturas[ alturas <= mediana ].count())"
      ],
      "execution_count": 0,
      "outputs": []
    },
    {
      "metadata": {
        "id": "SiKQRSTVymHx",
        "colab_type": "text"
      },
      "cell_type": "markdown",
      "source": [
        "### La moda\n",
        "\n",
        "La moda"
      ]
    }
  ]
}