{
  "nbformat": 4,
  "nbformat_minor": 0,
  "metadata": {
    "colab": {
      "name": "Demo encuesta de percepción.ipynb",
      "version": "0.3.2",
      "provenance": [],
      "private_outputs": true,
      "collapsed_sections": [],
      "include_colab_link": true
    },
    "kernelspec": {
      "name": "python3",
      "display_name": "Python 3"
    }
  },
  "cells": [
    {
      "cell_type": "markdown",
      "metadata": {
        "id": "view-in-github",
        "colab_type": "text"
      },
      "source": [
        "[View in Colaboratory](https://colab.research.google.com/github/politicasydatos/curso_intensivo_estadistica/blob/master/Demo_encuesta_de_percepci%C3%B3n.ipynb)"
      ]
    },
    {
      "metadata": {
        "id": "jPbATyAccA5N",
        "colab_type": "text"
      },
      "cell_type": "markdown",
      "source": [
        "# Demo de encuesta de percepción (simulación)\n",
        "\n",
        "Norman Simón Rodríguez, MSc.\n",
        "nsrodriguezc@unal.edu.co\n",
        "\n",
        "En este cuaderno vamos a tratar de ilustrar las limitaciones de las encuestas de percepción para la evaluación de intervenciones sociales, desde un punto de vista técnico.\n",
        "\n",
        "Vamos a usar un ejemplo de encuesta de percepción muy popular: la encuesta de intención de voto. Tenemos dos candidatos: Iván Duque y Gustavo Petro, y las opciones del voto en blanco y la abstención.\n",
        "\n",
        "## La población\n",
        "\n",
        "En Colombia hay 36'025.318 de personas habilitadas para votar. Si les preguntáramos a todas ellas, una por una, su intención de voto, estaríamos haciendo un **censo**. El problema es que sería imposible por razones económicas y logísticas, así que lo que hacemos es implementar una **encuesta**, que le pregunta la intención de voto a una muestra de ciudadanos, no a toda la población.\n",
        "\n",
        "En la vida real no conocemos las características de la población, sino que nos tenemos que conformar con información recolectada en una muestra. Para efectos de la simulación, supongamos lo siguiente:\n",
        "\n",
        "* La población son 36'025.318 de personas.\n",
        "* De estas, el 50% se abstendrá, el 10% votará en blanco, el 20% votará por Iván Duque y el 20% votará por Gustavo Petro.\n",
        "* Por ahora, todas las personas tienen exactamente la misma probabilidad de no responder la encuesta. O sea, todas las personas sienten el mismo nivel de felicidad al momento de responder encuestas políticas. Digamos que esa probabilidad es 50%.\n",
        "\n",
        "**Nota:** Estos datos son simulados, no representan datos reales ni intentan replicar o evaluar ninguna encuesta de percepción en la vida real.\n",
        "\n",
        "## La muestra\n",
        "\n",
        "Tomemos una muestra de 8065 personas. Este tamaño de muestra lo copiamos de una [reciente encuesta de percepción](http://www.wradio.com.co/noticias/actualidad/en-encuesta-guarumo-ivan-duque-tiene-525-y-gustavo-petro-tiene-36-en-intencion-de-voto/20180610/nota/3760163.aspx) (junio de 2018). La muestra corresponde al 0.022% de la población. La encuesta en mención usó un diseño de muestreo estratificado, pero nosotros vamos a usar uno no estratificado en nuestra simulación para no complicar demasiado la explicación.\n",
        "\n",
        "## El código\n",
        "\n",
        "Ahora vamos a hacer nuestra simulación con un poco de código de Python.\n",
        "\n",
        "Primero cargamos los módulos que necesitamos para hacer el procesamiento de los datos."
      ]
    },
    {
      "metadata": {
        "id": "WcVvAzX8rRdn",
        "colab_type": "code",
        "colab": {},
        "cellView": "both"
      },
      "cell_type": "code",
      "source": [
        "#@title\n",
        "import numpy as np\n",
        "import pandas as pd\n",
        "import matplotlib as mplot\n",
        "import scipy.stats as stats"
      ],
      "execution_count": 0,
      "outputs": []
    },
    {
      "metadata": {
        "id": "bANQBsIMrWAB",
        "colab_type": "text"
      },
      "cell_type": "markdown",
      "source": [
        "Ahora definimos los parámetros."
      ]
    },
    {
      "metadata": {
        "id": "JqI4_yytrYFn",
        "colab_type": "code",
        "colab": {},
        "cellView": "both"
      },
      "cell_type": "code",
      "source": [
        "censo_electoral = 36025318\n",
        "intencion_voto = [0.5, 0.1, 0.2, 0.2] # [ ABS, BLA, DUQ, PET ]\n",
        "probabilidad_respuesta = [0.5, 0.5, 0.5, 0.5 ] # [ ABS, BLA, DUQ, PET ]"
      ],
      "execution_count": 0,
      "outputs": []
    },
    {
      "metadata": {
        "id": "FJZg0s-Frcvu",
        "colab_type": "text"
      },
      "cell_type": "markdown",
      "source": [
        "Ahora creamos unas funciones que nos permitirán crear esta población todas las veces que queramos."
      ]
    },
    {
      "metadata": {
        "id": "UY2GU3QJrg2P",
        "colab_type": "code",
        "colab": {},
        "cellView": "both"
      },
      "cell_type": "code",
      "source": [
        "def crear_votantes(censo_electoral, intencion_voto_esp, probabilidad_respuesta_esp, abrev):\n",
        "    tamano = int(censo_electoral * intencion_voto_esp)\n",
        "    responderia = np.random.binomial(1, probabilidad_respuesta_esp, tamano)\n",
        "    votantes = np.full((tamano, 2), abrev)\n",
        "    votantes[:,1] = responderia\n",
        "    return votantes\n",
        "\n",
        "\n",
        "def crear_poblacion(censo_electoral, intencion_voto, probabilidad_respuesta):\n",
        "    censo_electoral = float(censo_electoral)  \n",
        "    ABS = crear_votantes(censo_electoral, intencion_voto[0], probabilidad_respuesta[0], \"ABS\")\n",
        "    BLA = crear_votantes(censo_electoral, intencion_voto[1], probabilidad_respuesta[1], \"BLA\")\n",
        "    DUQ = crear_votantes(censo_electoral, intencion_voto[2], probabilidad_respuesta[2], \"DUQ\")\n",
        "    PET = crear_votantes(censo_electoral, intencion_voto[3], probabilidad_respuesta[3], \"PET\")  \n",
        "    poblacion = np.vstack((ABS, BLA, DUQ, PET))\n",
        "    poblacion = pd.DataFrame(poblacion)\n",
        "    poblacion.columns = ['votaria_por', 'responderia_encuesta']\n",
        "    poblacion['responderia_encuesta'] = pd.to_numeric(poblacion['responderia_encuesta'])\n",
        "    print(\"Acabo de crear una población de {} votantes.\".format(str(len(poblacion))))\n",
        "    return poblacion"
      ],
      "execution_count": 0,
      "outputs": []
    },
    {
      "metadata": {
        "id": "WNXB6xo1rkyK",
        "colab_type": "text"
      },
      "cell_type": "markdown",
      "source": [
        "Y ahora creamos nuestra población de 36 millones de votantes:"
      ]
    },
    {
      "metadata": {
        "id": "d5fTnQQ-bh7i",
        "colab_type": "code",
        "colab": {},
        "cellView": "both"
      },
      "cell_type": "code",
      "source": [
        "poblacion = crear_poblacion(censo_electoral, intencion_voto, probabilidad_respuesta)\n",
        "\n",
        "print(poblacion)"
      ],
      "execution_count": 0,
      "outputs": []
    },
    {
      "metadata": {
        "id": "kc37fbb2rA53",
        "colab_type": "text"
      },
      "cell_type": "markdown",
      "source": [
        "Ahora vamos a explorar esta población, para ver si nos quedó bien creada. Contemos cuántos votantes habría para cada opción en la población."
      ]
    },
    {
      "metadata": {
        "id": "hyyeHsfMseWf",
        "colab_type": "code",
        "colab": {},
        "cellView": "both"
      },
      "cell_type": "code",
      "source": [
        "print(\"Frecuencias absolutas\")\n",
        "print(poblacion.groupby('votaria_por')['responderia_encuesta'].count()*100)\n",
        "\n",
        "print(\"\\nFrecuencias relativas\")\n",
        "print(poblacion.groupby('votaria_por')['responderia_encuesta'].count()*100\\\n",
        "/len(poblacion))"
      ],
      "execution_count": 0,
      "outputs": []
    },
    {
      "metadata": {
        "id": "2hnb6t2OuUvL",
        "colab_type": "text"
      },
      "cell_type": "markdown",
      "source": [
        "Y ahora contemos cuántos responderían la encuesta de percepción si se les preguntara."
      ]
    },
    {
      "metadata": {
        "id": "2n7BkCjfuaon",
        "colab_type": "code",
        "colab": {},
        "cellView": "both"
      },
      "cell_type": "code",
      "source": [
        "print(\"Frecuencias absolutas\")\n",
        "print(poblacion.groupby('votaria_por')['responderia_encuesta'].sum())\n",
        "\n",
        "print(\"\\nFrecuencias relativas (en relación con la población entera)\")\n",
        "print(poblacion.groupby('votaria_por')['responderia_encuesta'].sum()/len(poblacion))"
      ],
      "execution_count": 0,
      "outputs": []
    },
    {
      "metadata": {
        "id": "6lMRKcWS-nPC",
        "colab_type": "text"
      },
      "cell_type": "markdown",
      "source": [
        "Ahora vamos a hacer un muestreo aleatorio. El tamaño de la muestra será 8065 personas. Si nos queda bien el muestreo, el panorama electoral de la muestra reflejará bien el panorama electoral de la población."
      ]
    },
    {
      "metadata": {
        "id": "nTiwOTa4-0j8",
        "colab_type": "code",
        "colab": {},
        "cellView": "both"
      },
      "cell_type": "code",
      "source": [
        "tamano_muestra = 8065\n",
        "muestra = poblacion.sample(tamano_muestra)\n",
        "muestra.head(10)"
      ],
      "execution_count": 0,
      "outputs": []
    },
    {
      "metadata": {
        "id": "BlXRbUoz_Uct",
        "colab_type": "text"
      },
      "cell_type": "markdown",
      "source": [
        "Ahora hagamos la encuesta. Algunos responden, algunos no responden la encuesta."
      ]
    },
    {
      "metadata": {
        "id": "mhwB4vjo_hIH",
        "colab_type": "code",
        "colab": {},
        "cellView": "both"
      },
      "cell_type": "code",
      "source": [
        "muestra_respondieron = muestra[muestra['responderia_encuesta'] == 1]\n",
        "len(muestra_respondieron)"
      ],
      "execution_count": 0,
      "outputs": []
    },
    {
      "metadata": {
        "id": "FOZrZNw7_tIX",
        "colab_type": "text"
      },
      "cell_type": "markdown",
      "source": [
        "Entre estos que respondieron, ¿cómo quedaron las preferencias electorales?"
      ]
    },
    {
      "metadata": {
        "id": "sCxRefGE_xW1",
        "colab_type": "code",
        "colab": {},
        "cellView": "both"
      },
      "cell_type": "code",
      "source": [
        "muestra_respondieron.groupby('votaria_por')['responderia_encuesta'].count()*100\\\n",
        "/len(muestra_respondieron)"
      ],
      "execution_count": 0,
      "outputs": []
    },
    {
      "metadata": {
        "id": "S-b8AUNXAYCv",
        "colab_type": "text"
      },
      "cell_type": "markdown",
      "source": [
        "Por lo visto, la encuesta refleja bastante bien las preferencias electorales de la población. Con un margen de error de ±5 puntos porcentuales, esta encuesta declararía un empate.\n",
        "\n",
        "## Añadiendo una complicación\n",
        "\n",
        "Esta encuesta supone que la probabilidad de respuesta es la misma para los votantes de todos los candidatos. ¿Qué pasaría si cambiáramos un poco la probabilidad de respuesta?"
      ]
    },
    {
      "metadata": {
        "id": "bt82jR2YA114",
        "colab_type": "code",
        "colab": {},
        "cellView": "both"
      },
      "cell_type": "code",
      "source": [
        "probabilidad_respuesta = [0.1, 0.5, 0.3, 0.7 ] # [ ABS, BLA, DUQ, PET ]\n",
        "poblacion = crear_poblacion(censo_electoral, intencion_voto, probabilidad_respuesta)\n",
        "muestra = poblacion.sample(tamano_muestra)\n",
        "muestra_respondieron = muestra[muestra['responderia_encuesta'] == 1]\n",
        "muestra_respondieron.groupby('votaria_por')['responderia_encuesta'].count()*100\\\n",
        "/len(muestra_respondieron)"
      ],
      "execution_count": 0,
      "outputs": []
    },
    {
      "metadata": {
        "id": "G8_EjI5PDntj",
        "colab_type": "text"
      },
      "cell_type": "markdown",
      "source": [
        "Con un margen de error de ±5 puntos porcentuales, ¿se declararía un empate? ¿Quién sería el ganador?"
      ]
    },
    {
      "metadata": {
        "id": "wcbFBeZGEKAq",
        "colab_type": "code",
        "colab": {},
        "cellView": "both"
      },
      "cell_type": "code",
      "source": [
        "# Liberemos memoria\n",
        "del poblacion\n",
        "del muestra\n",
        "del muestra_respondieron"
      ],
      "execution_count": 0,
      "outputs": []
    },
    {
      "metadata": {
        "id": "3hfJqivKD7VC",
        "colab_type": "text"
      },
      "cell_type": "markdown",
      "source": [
        "## Aplicación en la evaluación de intervenciones\n",
        "\n",
        "Supongamos que queremos evaluar una intervención social, y para ello vamos a utilizar una encuesta de percepción. Primero, definamos el escenario. Se dan unas becas para unos cursos de capacitación en competencias técnicas laborales en una población de interés. La encuesta de percepción busca determinar la satisfacción de las personas frente al programa.\n",
        "\n",
        "Si la persona decide contestar la encuesta, las opciones son: Satisfecho, no satisfecho.\n",
        "\n",
        "Si la persona decide no contestar la encuesta, se marca como NS/NR.\n",
        "\n",
        "Digamos que la población son 5 mil personas, y la muestra de la encuesta será 250 personas (el 5%). Supongamos que en la población las preferencias se reparten así:\n",
        "\n",
        "* Satisfechos: 30%\n",
        "* No satisfechos: 70%\n",
        "\n",
        "Supongamos que la probabilidad de respuesta es la misma tanto entre los satisfechos como los no satisfechos (50%)."
      ]
    },
    {
      "metadata": {
        "id": "rVvJ-q2EFzGk",
        "colab_type": "code",
        "colab": {},
        "cellView": "both"
      },
      "cell_type": "code",
      "source": [
        "tamano_poblacion = 5000\n",
        "satisfechos = crear_votantes(tamano_poblacion, 0.3, 0.5, \"SATIS\")\n",
        "no_satisfechos = crear_votantes(tamano_poblacion, 0.7, 0.5, \"NOSAT\")\n",
        "poblacion = np.vstack((satisfechos, no_satisfechos))\n",
        "poblacion = pd.DataFrame(poblacion)\n",
        "poblacion.columns = ['opinion', 'responderia_encuesta']\n",
        "poblacion['responderia_encuesta'] = pd.to_numeric(poblacion['responderia_encuesta'])"
      ],
      "execution_count": 0,
      "outputs": []
    },
    {
      "metadata": {
        "id": "0QADN4YVGc1c",
        "colab_type": "text"
      },
      "cell_type": "markdown",
      "source": [
        "Hagamos el muestreo y la encuesta:"
      ]
    },
    {
      "metadata": {
        "id": "KB6B0HIUGefd",
        "colab_type": "code",
        "colab": {},
        "cellView": "both"
      },
      "cell_type": "code",
      "source": [
        "tamano_muestra = 400\n",
        "muestra = poblacion.sample(tamano_muestra)\n",
        "muestra_respondieron = muestra[muestra['responderia_encuesta'] == 1]\n",
        "muestra_respondieron.groupby('opinion')['responderia_encuesta'].count()*100\\\n",
        "/len(muestra_respondieron)"
      ],
      "execution_count": 0,
      "outputs": []
    },
    {
      "metadata": {
        "id": "9LxIv4gtdzEc",
        "colab_type": "text"
      },
      "cell_type": "markdown",
      "source": [
        "Esta encuesta parece reflejar razonablemente bien las preferencias de la población. Pero ¿qué pasa si introducimos sesgo de selección?"
      ]
    },
    {
      "metadata": {
        "id": "w0GFaQj-HDMo",
        "colab_type": "code",
        "colab": {},
        "cellView": "both"
      },
      "cell_type": "code",
      "source": [
        "satisfechos = crear_votantes(tamano_poblacion, 0.3, 0.75, \"SATIS\")\n",
        "no_satisfechos = crear_votantes(tamano_poblacion, 0.7, 0.4, \"NOSAT\")\n",
        "poblacion = np.vstack((satisfechos, no_satisfechos))\n",
        "poblacion = pd.DataFrame(poblacion)\n",
        "poblacion.columns = ['opinion', 'responderia_encuesta']\n",
        "poblacion['responderia_encuesta'] = pd.to_numeric(poblacion['responderia_encuesta'])\n",
        "\n",
        "tamano_muestra = 250\n",
        "muestra = poblacion.sample(tamano_muestra)\n",
        "muestra_respondieron = muestra[muestra['responderia_encuesta'] == 1]\n",
        "muestra_respondieron.groupby('opinion')['responderia_encuesta'].count()*100\\\n",
        "/len(muestra_respondieron)"
      ],
      "execution_count": 0,
      "outputs": []
    },
    {
      "metadata": {
        "id": "i-0V73GSHbs4",
        "colab_type": "text"
      },
      "cell_type": "markdown",
      "source": [
        "**¿Qué podríamos concluir?**"
      ]
    }
  ]
}