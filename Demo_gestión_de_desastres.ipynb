{
  "nbformat": 4,
  "nbformat_minor": 0,
  "metadata": {
    "colab": {
      "name": "Demo gestión de desastres.ipynb",
      "version": "0.3.2",
      "provenance": [],
      "private_outputs": true,
      "collapsed_sections": []
    },
    "kernelspec": {
      "name": "python3",
      "display_name": "Python 3"
    }
  },
  "cells": [
    {
      "metadata": {
        "id": "JBrTgP4TMikF",
        "colab_type": "text"
      },
      "cell_type": "markdown",
      "source": [
        "# Demo de gestión de atención a desastres\n",
        "\n",
        "![texto alternativo](https://upload.wikimedia.org/wikipedia/commons/b/b0/Parkes_castle.jpg)\n",
        "\n",
        "Hubo un desbordamiento de un río en un municipio colombiano, y se puso a la población en albergues. Este cuaderno hace un análisis de los damnificados del albergue que se encuentra en el estadio municipal.\n",
        "\n",
        "Por: Norman Simón Rodríguez, MSc. E-mail: nsrodriguezc@unal.edu.co (Versión: Junio 22 de 2018).\n",
        "\n",
        "**Nota**: Los datos usados en este cuaderno son simulados, no representan personas reales."
      ]
    },
    {
      "metadata": {
        "id": "_8qsHFunlKBZ",
        "colab_type": "text"
      },
      "cell_type": "markdown",
      "source": [
        "Vamos a importar las librerías necesarias:"
      ]
    },
    {
      "metadata": {
        "id": "uPVt5Wi7Mco5",
        "colab_type": "code",
        "colab": {},
        "cellView": "both"
      },
      "cell_type": "code",
      "source": [
        "import numpy as np\n",
        "import pandas as pd\n",
        "import matplotlib.pyplot as plt"
      ],
      "execution_count": 0,
      "outputs": []
    },
    {
      "metadata": {
        "id": "jbs1n1BymRJh",
        "colab_type": "text"
      },
      "cell_type": "markdown",
      "source": [
        "Y vamos a importar los datos del censo del albergue del estadio."
      ]
    },
    {
      "metadata": {
        "id": "WGphtF7Fu8sJ",
        "colab_type": "code",
        "colab": {}
      },
      "cell_type": "code",
      "source": [
        "url_censo = 'https://raw.githubusercontent.com/politicasydatos/curso_intensivo_estadistica/master/datos/censo_albergue_estadio.csv'\n",
        "censo_estadio = pd.read_csv(url_censo)"
      ],
      "execution_count": 0,
      "outputs": []
    },
    {
      "metadata": {
        "id": "DfRbOLzWmDZ4",
        "colab_type": "text"
      },
      "cell_type": "markdown",
      "source": [
        "## Explorando los datos\n",
        "\n",
        "Miremos la proporción de hombres y mujeres, y también la distribución etaria:"
      ]
    },
    {
      "metadata": {
        "id": "_vHJFc4umJf8",
        "colab_type": "code",
        "colab": {},
        "cellView": "both"
      },
      "cell_type": "code",
      "source": [
        "# ¿Cuánta gente hay en el albergue?\n",
        "print(\"En el albergue hay {} personas.\".format(str(len(censo_estadio))))\n",
        "\n",
        "# La tabla de frecuencias absolutas\n",
        "pd.crosstab(index=censo_estadio[\"sexo\"],columns=\"count\")"
      ],
      "execution_count": 0,
      "outputs": []
    },
    {
      "metadata": {
        "id": "xykbyypotnze",
        "colab_type": "code",
        "colab": {},
        "cellView": "both"
      },
      "cell_type": "code",
      "source": [
        "# El histograma de edades\n",
        "plt.hist(censo_estadio[\"edad\"].astype(int))\n",
        "plt.title(\"Histograma de edades\")\n",
        "plt.xlabel(\"Intervalos de edades\")\n",
        "plt.ylabel(\"Frecuencia absoluta\")\n",
        "plt.show()\n"
      ],
      "execution_count": 0,
      "outputs": []
    },
    {
      "metadata": {
        "id": "RhVhhyDjcOcV",
        "colab_type": "text"
      },
      "cell_type": "markdown",
      "source": [
        "Podemos sacar algunas estadísticas interesantes. Por ejemplo, las pérdidas totales:"
      ]
    },
    {
      "metadata": {
        "id": "T6txBkCWlU-Y",
        "colab_type": "code",
        "colab": {},
        "cellView": "both"
      },
      "cell_type": "code",
      "source": [
        "sum(censo_estadio['perdidas_estimadas'].dropna().astype(int))"
      ],
      "execution_count": 0,
      "outputs": []
    },
    {
      "metadata": {
        "id": "l1z6GkZzlO-D",
        "colab_type": "text"
      },
      "cell_type": "markdown",
      "source": [
        "O el ingreso total y per cápita:"
      ]
    },
    {
      "metadata": {
        "id": "sp7flQJ3x7-y",
        "colab_type": "code",
        "colab": {},
        "cellView": "both"
      },
      "cell_type": "code",
      "source": [
        "# El ingreso total\n",
        "Y = sum(censo_estadio['ingresos_mensuales'].astype(int))\n",
        "print(\"El ingreso total de la comunidad albergada es {} pesos por mes.\".format(str(Y)))\n",
        "\n",
        "# El ingreso per cápita\n",
        "y = Y / len(censo_estadio)\n",
        "y = round(y)\n",
        "print(\"El ingreso per cápita de la comunidad albergada es {} pesos por mes por persona.\".format(str(y)))"
      ],
      "execution_count": 0,
      "outputs": []
    },
    {
      "metadata": {
        "id": "I1XZMgJSyhz7",
        "colab_type": "text"
      },
      "cell_type": "markdown",
      "source": [
        "Sin embargo, no todas las personas tienen el mismo nivel de ingresos. Los ingresos se miden mejor por unidad de gasto (familia). Basándonos en los apellidos de las personas, determinemos cuáles son las familias albergadas en el estadio, y cuántos miembros tiene cada una de ellas."
      ]
    },
    {
      "metadata": {
        "id": "DshEyrnvy0TY",
        "colab_type": "code",
        "colab": {},
        "cellView": "both"
      },
      "cell_type": "code",
      "source": [
        "tam_familias = censo_estadio.groupby('apellido')['documento_identidad'].count() # Contamos cuántas personas (\"cédulas\") hay por cada familia.\n",
        "tam_familias = tam_familias.to_frame()\n",
        "#print(tam_familias.index.name)\n",
        "tam_familias.columns = ['tamano_familia']\n",
        "print(\"En el albergue hay {} familias.\".format(str(len(tam_familias))))\n",
        "tam_familias"
      ],
      "execution_count": 0,
      "outputs": []
    },
    {
      "metadata": {
        "id": "GL93V5rR0ETE",
        "colab_type": "text"
      },
      "cell_type": "markdown",
      "source": [
        "Ahora para cada familia averigüemos su ingreso total mensual y juntemos los datos con lo que ya sabemos de cada una:"
      ]
    },
    {
      "metadata": {
        "id": "P_-EHgny0KF8",
        "colab_type": "code",
        "colab": {},
        "cellView": "both"
      },
      "cell_type": "code",
      "source": [
        "censo_estadio['ingresos_mensuales']= pd.to_numeric(censo_estadio['ingresos_mensuales'])\n",
        "familias_Y = censo_estadio.groupby('apellido')['ingresos_mensuales'].sum()\n",
        "familias_Y = familias_Y.to_frame() # Son Series, hay que convertirlas a DataFrames\n",
        "familias_Y.columns = ['ingreso_total_familia']\n",
        "familias = tam_familias.join(familias_Y)\n",
        "del familias_Y\n",
        "del tam_familias\n",
        "familias"
      ],
      "execution_count": 0,
      "outputs": []
    },
    {
      "metadata": {
        "id": "rdn43HmidT-h",
        "colab_type": "text"
      },
      "cell_type": "markdown",
      "source": [
        "## Datos para la toma de decisiones\n",
        "\n",
        "El precio de una canasta básica depende de la cantidad de niños, adultos y adultos mayores que haya en la familia. Se sabe que por cada niño se gastan 80 mil pesos al mes, por cada adulto 70 mil. Sabiendo el ingreso total actual de cada familia, ahora calculamos el costo de la canasta familiar para cada familia, lo cual nos permite saber el subsidio requerido por familia (el subsidio puede ser en dinero o en especie).\n",
        "\n",
        "¿Cuánto debería ser el subsidio por familia?\n",
        "\n",
        "Para averiguarlo, creamos una función para calcular el gasto mínimo de cada persona."
      ]
    },
    {
      "metadata": {
        "id": "9BwwOpaz1Xar",
        "colab_type": "code",
        "colab": {},
        "cellView": "both"
      },
      "cell_type": "code",
      "source": [
        "def calcular_gasto_min_individual(edad):\n",
        "    gasto_nino = 80000\n",
        "    gasto_adulto = 70000\n",
        "    if edad < 18: # Si es un niño\n",
        "        return gasto_nino\n",
        "    else: # Si es un adulto\n",
        "        return gasto_adulto"
      ],
      "execution_count": 0,
      "outputs": []
    },
    {
      "metadata": {
        "id": "g7vX9L_ec9-T",
        "colab_type": "text"
      },
      "cell_type": "markdown",
      "source": [
        "Y calculamos el gasto mínimo de cada persona en el albergue:"
      ]
    },
    {
      "metadata": {
        "id": "bZIGXkYIdBLe",
        "colab_type": "code",
        "colab": {},
        "cellView": "both"
      },
      "cell_type": "code",
      "source": [
        "censo_estadio['gasto_min_individual'] = censo_estadio['edad'].astype(int).apply(calcular_gasto_min_individual)\n",
        "censo_estadio.head()\n",
        "#censo_estadio[censo_estadio['edad'].astype(int) < 18].head()"
      ],
      "execution_count": 0,
      "outputs": []
    },
    {
      "metadata": {
        "id": "kxs7x0nubzWQ",
        "colab_type": "text"
      },
      "cell_type": "markdown",
      "source": [
        "Y ahora se usa esa función para calcular, para cada familia, la canasta mínima."
      ]
    },
    {
      "metadata": {
        "id": "GurkLrvob7DL",
        "colab_type": "code",
        "colab": {},
        "cellView": "both"
      },
      "cell_type": "code",
      "source": [
        "familias_C = censo_estadio.groupby('apellido')['gasto_min_individual'].sum()\n",
        "familias_C = familias_C.to_frame() # Son Series, hay que convertirlas a DataFrames\n",
        "familias_C.columns = ['canasta_min_familia']\n",
        "familias_C = familias_C.join(familias)\n",
        "familias_C"
      ],
      "execution_count": 0,
      "outputs": []
    },
    {
      "metadata": {
        "id": "v9vdEQ3ofYEw",
        "colab_type": "text"
      },
      "cell_type": "markdown",
      "source": [
        "Ahora simplemente calculamos la diferencia entre lo que la familia necesita (la canasta) y lo que la familia tiene (ingreso total). Esa diferencia nos dice cuánto subsidio necesita cada familia."
      ]
    },
    {
      "metadata": {
        "id": "bY-QznZXfwkn",
        "colab_type": "code",
        "colab": {},
        "cellView": "both"
      },
      "cell_type": "code",
      "source": [
        "familias_C['subsidio'] = familias_C['canasta_min_familia'] - familias_C['ingreso_total_familia']\n",
        "familias_C"
      ],
      "execution_count": 0,
      "outputs": []
    },
    {
      "metadata": {
        "id": "tKA_ShbAdlgB",
        "colab_type": "text"
      },
      "cell_type": "markdown",
      "source": [
        "Los subsidios negativos representan familias que ganan más de lo que necesitan. En esos casos no es necesario darles subsidio. Eliminando los subsidios negativos, el subsidio total por el albergue es de:"
      ]
    },
    {
      "metadata": {
        "id": "fxq07KymgRAm",
        "colab_type": "code",
        "colab": {},
        "cellView": "both"
      },
      "cell_type": "code",
      "source": [
        "datos_filtrados = familias_C['subsidio'][familias_C['subsidio'] >= 0]\n",
        "subsidio_total_estadio = sum(datos_filtrados)\n",
        "print(\"En total se necesitan {} pesos para dar en subsidios.\".format(str(subsidio_total_estadio)))"
      ],
      "execution_count": 0,
      "outputs": []
    },
    {
      "metadata": {
        "id": "s9PH0T2Uzu2m",
        "colab_type": "text"
      },
      "cell_type": "markdown",
      "source": [
        "Exportamos los datos más relevantes:"
      ]
    },
    {
      "metadata": {
        "id": "o518H0JIhk6v",
        "colab_type": "code",
        "colab": {},
        "cellView": "both"
      },
      "cell_type": "code",
      "source": [
        "from google.colab import files\n",
        "\n",
        "familias_C.to_csv('datos_familias.csv')\n",
        "\n",
        "files.download('datos_familias.csv')"
      ],
      "execution_count": 0,
      "outputs": []
    },
    {
      "metadata": {
        "id": "7VFSrsdInJz3",
        "colab_type": "text"
      },
      "cell_type": "markdown",
      "source": [
        "## Datos adicionales\n",
        "\n",
        "Podemos mirar cuántas oleadas de evacuación ha habido, y si coinciden con los días en los que se hicieron las alertas."
      ]
    },
    {
      "metadata": {
        "id": "UVBw099tnTjC",
        "colab_type": "code",
        "colab": {}
      },
      "cell_type": "code",
      "source": [
        "evacuaciones = pd.crosstab(index=censo_estadio['fecha_evacuacion'],columns=\"count\")\n",
        "print(evacuaciones)\n",
        "plt.bar(x=evacuaciones.index, height=evacuaciones['count'])\n",
        "plt.title('Personas evacuadas por día')\n",
        "plt.show()"
      ],
      "execution_count": 0,
      "outputs": []
    },
    {
      "metadata": {
        "id": "GuSJ_agsnTsk",
        "colab_type": "text"
      },
      "cell_type": "markdown",
      "source": [
        "Y también podemos mirar cuáles familias necesitan atención médica prioritaria por casos de EDA:"
      ]
    },
    {
      "metadata": {
        "id": "OH6WxjMsrCfU",
        "colab_type": "code",
        "colab": {}
      },
      "cell_type": "code",
      "source": [
        "censo_estadio['diarrea'] = pd.to_numeric(censo_estadio['diarrea'])\n",
        "EDA = censo_estadio.groupby('apellido')['diarrea'].sum()\n",
        "EDA = EDA.to_frame() # Son Series, hay que convertirlas a DataFrames\n",
        "EDA.columns = ['casos_de_eda']\n",
        "EDA.sort_values('casos_de_eda', ascending=False)"
      ],
      "execution_count": 0,
      "outputs": []
    },
    {
      "metadata": {
        "id": "FKvfCqJJZ9UK",
        "colab_type": "text"
      },
      "cell_type": "markdown",
      "source": [
        "## Otros recursos\n",
        "\n",
        "El blog del BID relata la experiencia exitosa de Tabasco (México), en la atención a las inundaciones de 2009 [(link)](https://blogs.iadb.org/abierto-al-publico/2016/02/25/como-el-big-data-ayuda-en-la-gestion-de-desastres-naturales-el-caso-de-tabasco-en-2009/?utm_source=Newsletter31&utm_medium=EmailKNM&utm_campaign=Blog&utm_term=Blog&utm_content=Junio) y también el uso del \"Crowd\" para [recolectar datos](https://blogs.iadb.org/abierto-al-publico/2018/06/07/apoyar-a-guatemala/?utm_source=Newsletter31&utm_medium=EmailKNM&utm_campaign=Blog&utm_term=Blog&utm_content=Junio) en el desastre del Volcán de Fuego. En el caso de Tabasco, resalta que se mezclaron datos de las autoridades, datos satelitales y datos de llamadas por celular para determinar qué tanta movilidad había después de cada comunicado de alerta. Se determinó que cada vez que llovía fuertemente se emitía la alerta, pero la gente no se movía sino sólo cuando se presentaba un desastre. En Guatemala se está usando crowdsourcing para triangular geográficamente los albergues informales."
      ]
    }
  ]
}