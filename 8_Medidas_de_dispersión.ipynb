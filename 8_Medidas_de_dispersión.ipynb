{
  "nbformat": 4,
  "nbformat_minor": 0,
  "metadata": {
    "colab": {
      "name": "8: Medidas de dispersión.ipynb",
      "version": "0.3.2",
      "provenance": [],
      "private_outputs": true,
      "collapsed_sections": []
    },
    "kernelspec": {
      "name": "python3",
      "display_name": "Python 3"
    }
  },
  "cells": [
    {
      "metadata": {
        "id": "-XBYHfOMGaXt",
        "colab_type": "text"
      },
      "cell_type": "markdown",
      "source": [
        "![texto alternativo](https://3.bp.blogspot.com/-O3yeEI3wWN4/Wpbw8NnGFaI/AAAAAAAAABg/ZwFgqtmiwDczgu2BGJ9Qkr9mhkuCK_oogCK4BGAYYCw/s1600/Logo%2Bbanner%2B%25285%2529.png)\n",
        "\n",
        "# Curso intensivo de estadística en Python\n",
        "\n",
        "Con [Norman Simón Rodríguez, MSc](https://politicasydatos.blogspot.com/p/acerca-de-mi.html)."
      ]
    },
    {
      "metadata": {
        "id": "yZoXk5XBGtuf",
        "colab_type": "text"
      },
      "cell_type": "markdown",
      "source": [
        "## Lección 8: Medidas de dispersión\n",
        "\n",
        "En la lección anterior vimos que los promedios o medidas de tendencia central buscan ofrecer un valor único que sirva como orientación para resumir muchos datos. El promedio resume muchos datos con un solo número, el cual es un \"valor típico\", es decir, un valor al que todos los demás (o la gran mayoría de ellos) se parecen.\n",
        "\n",
        "Sin embargo, no todas las veces los promedios resumen bien los datos. Podríamos proponer tres escenarios:\n",
        "\n",
        "* **Cuando la mayoría de los datos se concentra muy cerca del promedio.** En este caso, el promedio resume bien los datos, porque todos se le parecen.\n",
        "* **Cuando hay muchos datos que están lejos del promedio.** En este caso, el promedio no es una buena medida de resumen, porque no representa bien a la mayoría de los datos.\n",
        "* **Casos \"intermedios\"** en los que los datos no están ni muy concentrados alrededor del promedio, ni muy alejados del mismo.\n",
        "\n",
        "Para evaluar la calidad de las medidas de tendencia central se crearon las **medidas de dispersión**. Cuando una distribución está densa cerca del promedio, se dice que está concentrada, mientras que si es \"ancha\", alejada del promedio, se dice que es dispersa.\n",
        "\n",
        "La clave es que **cuanto más dispersa es una distribución, menos confiable es su promedio.**\n",
        "\n",
        "Hay diversidad de medidas de dispersión, pero acá sólo veremos algunas de las más populares: el rango, la desviación estándar y la desviación mediana absoluta.\n",
        "\n",
        "Primero importamos las librerías requeridas para nuestro análisis:"
      ]
    },
    {
      "metadata": {
        "id": "vy_yDk_IGUW9",
        "colab_type": "code",
        "colab": {}
      },
      "cell_type": "code",
      "source": [
        "# Para analizar datos\n",
        "import pandas as pd\n",
        "\n",
        "# Para graficar datos\n",
        "import matplotlib.pyplot as plt\n",
        "import seaborn as sns\n",
        "sns.set(style=\"white\", font_scale=1.5)"
      ],
      "execution_count": 0,
      "outputs": []
    },
    {
      "metadata": {
        "id": "dj7lDuCCKAPW",
        "colab_type": "text"
      },
      "cell_type": "markdown",
      "source": [
        "### El rango\n",
        "\n",
        "El rango se puede entender como la \"anchura\" de la distribución. Técnicamente, es la distancia entre el valor más grande y el valor más pequeño o, equivalentemente, su diferencia aritmética.\n",
        "\n",
        "Importemos la población proyectada por el [DANE](http://www.dane.gov.co/index.php/estadisticas-por-tema/demografia-y-poblacion/proyecciones-de-poblacion) para los municipios colombianos para 2018."
      ]
    },
    {
      "metadata": {
        "id": "cpmElOMxURDJ",
        "colab_type": "code",
        "colab": {}
      },
      "cell_type": "code",
      "source": [
        "url_poblacion = 'https://raw.githubusercontent.com/politicasydatos/curso_intensivo_estadistica/master/datos/poblacion_2018.csv'\n",
        "poblacion = pd.read_csv(url_poblacion)"
      ],
      "execution_count": 0,
      "outputs": []
    },
    {
      "metadata": {
        "id": "sLULgoLeUdzz",
        "colab_type": "text"
      },
      "cell_type": "markdown",
      "source": [
        "Grafiquemos la distribución"
      ]
    },
    {
      "metadata": {
        "id": "zFkgLKhsUgKg",
        "colab_type": "code",
        "colab": {}
      },
      "cell_type": "code",
      "source": [
        "ax = poblacion['2018'].plot.hist(bins=150, normed=True)\n",
        "poblacion['2018'].plot.density(ax=ax, color='red', linewidth=3, bw_method=0.05)\n",
        "plt.xlim(0, 2000000) # Se puede experimentar con el borde superior de xlim\n",
        "plt.ticklabel_format(axis='x', style='sci', scilimits=(-2,2)) # Para forzar la notación científica\n",
        "plt.show()"
      ],
      "execution_count": 0,
      "outputs": []
    },
    {
      "metadata": {
        "id": "z5TOxr-oU08G",
        "colab_type": "text"
      },
      "cell_type": "markdown",
      "source": [
        "Vemos que es una distribución altamente concentrada. Su valor máximo y mínimo, y su rango:"
      ]
    },
    {
      "metadata": {
        "id": "Oga539oFVHBE",
        "colab_type": "code",
        "colab": {}
      },
      "cell_type": "code",
      "source": [
        "print( \"Máximo: \", max(poblacion['2018']) )\n",
        "print( \"Mínimo: \", min(poblacion['2018']) )\n",
        "print( \"Rango: \", max(poblacion['2018']) - min(poblacion['2018']) )"
      ],
      "execution_count": 0,
      "outputs": []
    },
    {
      "metadata": {
        "id": "gXIGvJXFVo_8",
        "colab_type": "text"
      },
      "cell_type": "markdown",
      "source": [
        "Esta distribución tiene un rango muy grande, lo cual indicaría que es una distribución muy dispersa. Pero el gráfico de densidad nos muestra que es en realidad una distribución bastante concentrada. Esto nos indica que **el rango no es usualmente una buena medida de dispersión**.\n",
        "\n",
        "Sin embargo, vemos muy a menudo titulares de prensa como el siguiente:\n",
        "\n",
        ">> *El asalariado más rico del país gana 45 veces más que el asalariado más pobre. Esto evidencia la inequidad reinante en el mercado laboral.*\n",
        "\n",
        "Este titular hace uso de un rango, pero como acabamos de ver, no nos permite saber realmente cuál es la dispersión verdadera de la distribución de los ingresos en ese país. Sólo toma los valores extremos e ignora todo lo que está en medio (o sea, al 99.999% de la población).\n",
        "\n",
        "Hay otras medidas de dispersión que no se dejan afectar tanto por los valores extremos y que son por tanto más confiables: la desviación estándar y la desviación mediana absoluta.\n",
        "\n",
        "### La desviación estándar\n",
        "\n",
        "La desviación estándar busca medir la dispersión de una forma menos frágil que el rango. Sigue dándoles bastante peso a los valores extremos, pero ya no tanto como el rango. La desviación estándar sirve para calificar la **media**:"
      ]
    },
    {
      "metadata": {
        "id": "1nd73fnJYtpd",
        "colab_type": "code",
        "colab": {}
      },
      "cell_type": "code",
      "source": [
        "desvest = round( poblacion['2018'].std(), 1 )\n",
        "media = round( poblacion['2018'].mean(), 1 )\n",
        "print(\"La media es {} y la desviación estándar es {} habitantes.\".format(media, desvest))"
      ],
      "execution_count": 0,
      "outputs": []
    },
    {
      "metadata": {
        "id": "qiWDcjkbZxAw",
        "colab_type": "text"
      },
      "cell_type": "markdown",
      "source": [
        "Grafiquemos estas dos medidas de estadística descriptiva sobre nuestro diagrama de densidad (la línea negra es la media, las líneas rojas son la media ± la desviación estándar):"
      ]
    },
    {
      "metadata": {
        "id": "Mj7KB-qaYNtx",
        "colab_type": "code",
        "colab": {}
      },
      "cell_type": "code",
      "source": [
        "poblacion['2018'].plot.density(linewidth=3)\n",
        "plt.xlim(-300000, 3000000)\n",
        "plt.axvline(x=media, color='black', linewidth=3)\n",
        "plt.axvline(x=media+desvest, color='red', linewidth=3)\n",
        "plt.axvline(x=media-desvest, color='red', linewidth=3)\n",
        "plt.show()"
      ],
      "execution_count": 0,
      "outputs": []
    },
    {
      "metadata": {
        "id": "_GNAN1ArbBPD",
        "colab_type": "text"
      },
      "cell_type": "markdown",
      "source": [
        "A simple vista se puede observar que la distribución está relativamente concentrada alrededor de la media. No existe una regla precisa de cuándo considerar una distribución \"dispersa\" o \"no dispersa\", pues eso depende del contexto. Una medida que sirve para ayudar en la decisión es el *coeficiente de variación*, que nos dice cuántas veces cabe la media en la desviación estándar. A mayor coeficiente de variación, mayor dispersión. Sin embargo, como decimos, el coeficiente que se pueda considerar disperso no no disperso varía según las circunstancias y el arbitrio del investigador. Lo calculamos con el paquete `scipy.stats`:"
      ]
    },
    {
      "metadata": {
        "id": "6DNGcNsPbbPd",
        "colab_type": "code",
        "colab": {}
      },
      "cell_type": "code",
      "source": [
        "import scipy.stats as stats\n",
        "stats.variation(poblacion['2018'])"
      ],
      "execution_count": 0,
      "outputs": []
    },
    {
      "metadata": {
        "id": "dCBNH2wxcWG5",
        "colab_type": "text"
      },
      "cell_type": "markdown",
      "source": [
        "### La desviación mediana absoluta\n",
        "\n",
        "Como esta distribución del número de habitantes por municipio es asimétrica, podríamos más bien describirla con la mediana, y usar el equivalente de la desviación estándar en este caso, que es la desviación mediana absoluta."
      ]
    },
    {
      "metadata": {
        "id": "eZ3BFC28csSZ",
        "colab_type": "code",
        "colab": {}
      },
      "cell_type": "code",
      "source": [
        "import statsmodels.robust as robust\n",
        "\n",
        "desmedianab = round( robust.scale.mad(poblacion['2018']), 1 )\n",
        "mediana = round( poblacion['2018'].median(), 1 )\n",
        "print(\"La mediana es {} y la desviación mediana absoluta es {} habitantes.\".format(mediana, desmedianab))"
      ],
      "execution_count": 0,
      "outputs": []
    },
    {
      "metadata": {
        "id": "S0EB3XOxdaGq",
        "colab_type": "text"
      },
      "cell_type": "markdown",
      "source": [
        "Vemos que tanto la mediana como la desviación mediana absoluta son más pequeñas que sus contrapartes no robustas (media y desviación estándar). Graficando:"
      ]
    },
    {
      "metadata": {
        "id": "q7b8GR9_doWZ",
        "colab_type": "code",
        "colab": {}
      },
      "cell_type": "code",
      "source": [
        "poblacion['2018'].plot.density(linewidth=3)\n",
        "plt.xlim(-300000, 3000000)\n",
        "plt.axvline(x=mediana, color='black', linewidth=1)\n",
        "plt.axvline(x=mediana+desmedianab, color='red', linewidth=1)\n",
        "plt.axvline(x=mediana-desmedianab, color='red', linewidth=1)\n",
        "plt.show()"
      ],
      "execution_count": 0,
      "outputs": []
    },
    {
      "metadata": {
        "id": "q-NSxnVpd49Y",
        "colab_type": "text"
      },
      "cell_type": "markdown",
      "source": [
        "De hecho están tan juntas que es difícil ver que hay tres líneas justo alrededor de la mediana.\n",
        "\n",
        "Podríamos decir, aún, que el municipio típico tiene una población que se encuentra entre una mediana menos una desviación mediana absoluta y una mediana más una desviación mediana absoluta:"
      ]
    },
    {
      "metadata": {
        "id": "1v-fWFCFefuU",
        "colab_type": "code",
        "colab": {}
      },
      "cell_type": "code",
      "source": [
        "a = int ( mediana - desmedianab ) # int sirve para convertir el decimal en un entero\n",
        "b = int ( mediana + desmedianab )\n",
        "print(\"El municipio típico en Colombia tiene entre {} y {} habitantes\".format(a, b))"
      ],
      "execution_count": 0,
      "outputs": []
    },
    {
      "metadata": {
        "id": "38L0A3uNe88l",
        "colab_type": "text"
      },
      "cell_type": "markdown",
      "source": [
        "Estas medidas especiales para las distribuciones asimétricas nos dicen que la distribución de habitantes está bastante concentrada, lo cual es verdad, porque la gran mayoría de los 1122 municipios colombianos tiene una población pequeña, de hecho cercana a la mediana. **¿Qué podría implicar esta información para la forma en que vemos las políticas públicas en Colombia?**."
      ]
    },
    {
      "metadata": {
        "id": "iQAlUERpfEOt",
        "colab_type": "text"
      },
      "cell_type": "markdown",
      "source": [
        "### ¿Qué aprendimos?\n",
        "\n",
        "Aprendimos:\n",
        "\n",
        "* Que las medidas de dispersión nos ayudan a calificar la calidad de las medidas de tendencia central: a mayor dispersión, menos confiabilidad del promedio.\n",
        "* Que el rango, con todo y ser tan popular, no suele ser una buena medida de dispersión.\n",
        "* Que la desviación estándar sirve para calificar la media.\n",
        "* Que el coeficiente de variación nos dice cuántas veces cabe la media en la desviación estándar, pero no existe una regla general que diga cuándo el coeficiente demuestra que una distribución es dispersa y cuándo no.\n",
        "* Que la desviación mediana absoluta sirve para calificar la mediana (ambas son medidas robustas, o sea, no se dejan afectar tanto por los valores extremos y son aptas para las distribuciones asimétricas).\n",
        "* Aprendimos a calcular todas estas medidas y a graficarlas sobrepuestas en histogramas y gráficos de densidad.\n",
        "\n",
        "Visita [https://politicasydatos.blogspot.com/](https://politicasydatos.blogspot.com/) para más material.\n",
        "\n",
        "¡Nos vemos en el próximo tutorial!"
      ]
    }
  ]
}