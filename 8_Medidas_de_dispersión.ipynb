{
  "nbformat": 4,
  "nbformat_minor": 0,
  "metadata": {
    "colab": {
      "name": "8: Medidas de dispersión.ipynb",
      "version": "0.3.2",
      "provenance": [],
      "private_outputs": true,
      "include_colab_link": true
    }
  },
  "cells": [
    {
      "cell_type": "markdown",
      "metadata": {
        "id": "view-in-github",
        "colab_type": "text"
      },
      "source": [
        "[View in Colaboratory](https://colab.research.google.com/github/politicasydatos/curso_intensivo_estadistica/blob/master/8_Medidas_de_dispersi%C3%B3n.ipynb)"
      ]
    },
    {
      "metadata": {
        "id": "-XBYHfOMGaXt",
        "colab_type": "text"
      },
      "cell_type": "markdown",
      "source": [
        "![texto alternativo](https://3.bp.blogspot.com/-O3yeEI3wWN4/Wpbw8NnGFaI/AAAAAAAAABg/ZwFgqtmiwDczgu2BGJ9Qkr9mhkuCK_oogCK4BGAYYCw/s1600/Logo%2Bbanner%2B%25285%2529.png)\n",
        "\n",
        "# Curso intensivo de estadística en Python\n",
        "\n",
        "Con [Norman Simón Rodríguez, MSc](https://politicasydatos.blogspot.com/p/acerca-de-mi.html)."
      ]
    },
    {
      "metadata": {
        "id": "yZoXk5XBGtuf",
        "colab_type": "text"
      },
      "cell_type": "markdown",
      "source": [
        "## Lección 8: Medidas de dispersión\n",
        "\n",
        "En la lección anterior vimos que los promedios o medidas de tendencia central buscan ofrecer un valor único que sirva como orientación para resumir muchos datos. El promedio resume muchos datos con un solo número, el cual es un \"valor típico\", es decir, un valor al que todos los demás (o la gran mayoría de ellos) se parecen.\n",
        "\n",
        "Sin embargo, no todas las veces los promedios resumen bien los datos. Podríamos proponer tres escenarios:\n",
        "\n",
        "* **Cuando la mayoría de los datos se concentra muy cerca del promedio.** En este caso, el promedio resume bien los datos, porque todos se le parecen.\n",
        "* **Cuando hay muchos datos que están lejos del promedio.** En este caso, el promedio no es una buena medida de resumen, porque no representa bien a la mayoría de los datos.\n",
        "* **Casos \"intermedios\"** en los que los datos no están ni muy concentrados alrededor del promedio, ni muy alejados del mismo.\n",
        "\n",
        "Para evaluar la calidad de las medidas de tendencia central se crearon las **medidas de dispersión**. Cuando una distribución está densa cerca del promedio, se dice que está concentrada, mientras que si es \"ancha\", alejada del promedio, se dice que es dispersa.\n",
        "\n",
        "La clave es que **cuanto más dispersa es una distribución, menos confiable es su promedio.**\n",
        "\n",
        "Hay diversidad de medidas de dispersión, pero acá sólo veremos algunas de las más populares: el rango, la desviación estándar y la desviación mediana absoluta.\n",
        "\n",
        "Primero importamos las librerías requeridas para nuestro análisis (incluyendo `numpy` y `scipy.stats`):"
      ]
    },
    {
      "metadata": {
        "id": "vy_yDk_IGUW9",
        "colab_type": "code",
        "colab": {}
      },
      "cell_type": "code",
      "source": [
        "import pandas as pd\n",
        "import numpy as np\n",
        "import scipy.stats as stats\n",
        "import matplotlib.pyplot as plt\n",
        "import seaborn as sns\n",
        "sns.set(style=\"white\", font_scale=1.5)"
      ],
      "execution_count": 0,
      "outputs": []
    },
    {
      "metadata": {
        "id": "dj7lDuCCKAPW",
        "colab_type": "text"
      },
      "cell_type": "markdown",
      "source": [
        "### El rango\n",
        "\n",
        "El rango se puede entender como la \"anchura\" de la distribución. Técnicamente, es la distancia entre el valor más grande y el valor más pequeño o, equivalentemente, su diferencia aritmética."
      ]
    }
  ]
}